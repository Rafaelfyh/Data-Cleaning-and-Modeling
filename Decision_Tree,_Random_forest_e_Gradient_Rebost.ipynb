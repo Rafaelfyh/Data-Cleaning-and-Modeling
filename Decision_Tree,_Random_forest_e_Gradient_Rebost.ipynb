{
  "nbformat": 4,
  "nbformat_minor": 0,
  "metadata": {
    "colab": {
      "private_outputs": true,
      "provenance": [],
      "collapsed_sections": [],
      "mount_file_id": "1niW1cYc_fKHRi5sRuzw1yNtE5PonJXwK",
      "authorship_tag": "ABX9TyPVWkRjTBdWvPv6K73Ij0wi",
      "include_colab_link": true
    },
    "kernelspec": {
      "name": "python3",
      "display_name": "Python 3"
    },
    "language_info": {
      "name": "python"
    }
  },
  "cells": [
    {
      "cell_type": "markdown",
      "metadata": {
        "id": "view-in-github",
        "colab_type": "text"
      },
      "source": [
        "<a href=\"https://colab.research.google.com/github/Rafaelfyh/Data-Cleaning-and-Modeling/blob/master/Decision_Tree%2C_Random_forest_e_Gradient_Rebost.ipynb\" target=\"_parent\"><img src=\"https://colab.research.google.com/assets/colab-badge.svg\" alt=\"Open In Colab\"/></a>"
      ]
    },
    {
      "cell_type": "markdown",
      "source": [
        "#Modeling"
      ],
      "metadata": {
        "id": "VN-Gus8j8X-t"
      }
    },
    {
      "cell_type": "code",
      "source": [
        "import pandas as pd\n",
        "df = pd.read_csv('/content/drive/MyDrive/Aliar projeto/dfpmodelo')"
      ],
      "metadata": {
        "id": "EeJYKbxW8XBn"
      },
      "execution_count": null,
      "outputs": []
    },
    {
      "cell_type": "code",
      "source": [
        "#Colunas\n",
        "df.columns"
      ],
      "metadata": {
        "id": "4RZ5Jse36zPu"
      },
      "execution_count": null,
      "outputs": []
    },
    {
      "cell_type": "code",
      "source": [
        "#eliminando coluna\n",
        "df=df.drop('Unnamed: 0', axis=1 )"
      ],
      "metadata": {
        "id": "AVsu8dsY1baP"
      },
      "execution_count": null,
      "outputs": []
    },
    {
      "cell_type": "code",
      "source": [
        "df['estado_civil']=df['estado_civil'].astype(object)\n",
        "df['id_pessoa']=df['id_pessoa'].astype(object)\n"
      ],
      "metadata": {
        "id": "2_fAzewr3EuE"
      },
      "execution_count": null,
      "outputs": []
    },
    {
      "cell_type": "code",
      "source": [
        "df_modelo1=df[df['show']==1]\n",
        "df_modelo2=df[df['show']==0]\n",
        "\n"
      ],
      "metadata": {
        "id": "sO8dmL8W3wU4"
      },
      "execution_count": null,
      "outputs": []
    },
    {
      "cell_type": "code",
      "source": [
        "df_modelo1=df_modelo1.sample(100000)\n",
        "df_modelo2=df_modelo2.sample(100000)"
      ],
      "metadata": {
        "id": "a4eCnd6d4cTN"
      },
      "execution_count": null,
      "outputs": []
    },
    {
      "cell_type": "code",
      "source": [
        "df_modelo=pd.concat([df_modelo1,df_modelo2], ignore_index=True)"
      ],
      "metadata": {
        "id": "B8Es3a1B42kI"
      },
      "execution_count": null,
      "outputs": []
    },
    {
      "cell_type": "code",
      "source": [
        "df_modelo.shape"
      ],
      "metadata": {
        "id": "Hqq2-2tUDYEv"
      },
      "execution_count": null,
      "outputs": []
    },
    {
      "cell_type": "code",
      "source": [
        "df_modelo.columns"
      ],
      "metadata": {
        "id": "v4V6Qj8P6RDv"
      },
      "execution_count": null,
      "outputs": []
    },
    {
      "cell_type": "code",
      "source": [
        "#daminificação\n",
        "\n",
        "colum_damificar=['nome_procedimento', 'nome_unidade', 'estado_civil',\n",
        "           'sexo', 'grupo_economico']"
      ],
      "metadata": {
        "id": "WsSU0yMW6afe"
      },
      "execution_count": null,
      "outputs": []
    },
    {
      "cell_type": "code",
      "source": [
        "damificar=pd.get_dummies(df_modelo[colum_damificar])\n",
        "for colum in damificar.columns:\n",
        "  df_modelo[colum]=damificar[colum]\n",
        "\n",
        "df_modelo.drop(colum_damificar, axis=1, inplace=True)"
      ],
      "metadata": {
        "id": "pzopOsFp6_1Q"
      },
      "execution_count": null,
      "outputs": []
    },
    {
      "cell_type": "code",
      "source": [
        "df_modelo.head()"
      ],
      "metadata": {
        "id": "-D7w-1PM5z-v"
      },
      "execution_count": null,
      "outputs": []
    },
    {
      "cell_type": "code",
      "source": [
        "from sklearn.model_selection import train_test_split\n"
      ],
      "metadata": {
        "id": "XX7f2_tg89be"
      },
      "execution_count": null,
      "outputs": []
    },
    {
      "cell_type": "code",
      "source": [
        "df_modelo=df_modelo.sample(10000)"
      ],
      "metadata": {
        "id": "1gYko9Az9bZL"
      },
      "execution_count": null,
      "outputs": []
    },
    {
      "cell_type": "code",
      "source": [
        "y = df_modelo['show']\n",
        "X = df_modelo.drop(['id_pessoa', 'dt_exame','show'], axis=1)\n",
        "y.value_counts()\n"
      ],
      "metadata": {
        "id": "-tP8BiRUH-Hs"
      },
      "execution_count": null,
      "outputs": []
    },
    {
      "cell_type": "code",
      "source": [],
      "metadata": {
        "id": "7CEF-K-x9XST"
      },
      "execution_count": null,
      "outputs": []
    },
    {
      "cell_type": "code",
      "source": [
        "x_treino, x_teste, y_treino, y_teste = train_test_split(X,\n",
        "                                                        y,\n",
        "                                                        test_size=0.3,\n",
        "                                                        random_state=42)"
      ],
      "metadata": {
        "id": "3hP-sXzIFhpc"
      },
      "execution_count": null,
      "outputs": []
    },
    {
      "cell_type": "code",
      "source": [
        "from sklearn.tree import DecisionTreeClassifier"
      ],
      "metadata": {
        "id": "bRmvNZPQ0Pjp"
      },
      "execution_count": null,
      "outputs": []
    },
    {
      "cell_type": "code",
      "source": [
        "\n",
        "tree = DecisionTreeClassifier(random_state=42)"
      ],
      "metadata": {
        "id": "ByGyobuVF-M9"
      },
      "execution_count": null,
      "outputs": []
    },
    {
      "cell_type": "code",
      "source": [
        "x_treino.shape , x_teste.shape, y_treino.shape, y_teste.shape"
      ],
      "metadata": {
        "id": "iGigPp0Vrfzl"
      },
      "execution_count": null,
      "outputs": []
    },
    {
      "cell_type": "code",
      "source": [
        "from sklearn.ensemble import RandomForestClassifier\n"
      ],
      "metadata": {
        "id": "7rhpUyqcxmz5"
      },
      "execution_count": null,
      "outputs": []
    },
    {
      "cell_type": "code",
      "source": [
        "#random forest\n",
        "rf = RandomForestClassifier(n_estimators=400,\n",
        "                            random_state=42)"
      ],
      "metadata": {
        "id": "HlAtmsgXI_vM"
      },
      "execution_count": null,
      "outputs": []
    },
    {
      "cell_type": "code",
      "source": [
        "#gradiente boosting\n",
        "from sklearn.ensemble import GradientBoostingClassifier"
      ],
      "metadata": {
        "id": "daImH_NNJn-s"
      },
      "execution_count": null,
      "outputs": []
    },
    {
      "cell_type": "code",
      "source": [
        "\n",
        "gb = GradientBoostingClassifier(n_estimators=400, \n",
        "                                random_state=42)"
      ],
      "metadata": {
        "id": "js8l8B2fJMKe"
      },
      "execution_count": null,
      "outputs": []
    },
    {
      "cell_type": "code",
      "source": [
        "gb"
      ],
      "metadata": {
        "id": "rpirReIJJqXG"
      },
      "execution_count": null,
      "outputs": []
    },
    {
      "cell_type": "code",
      "source": [
        "tree.fit(x_treino, y_treino)"
      ],
      "metadata": {
        "id": "Cj6gnozAJ_gG"
      },
      "execution_count": null,
      "outputs": []
    },
    {
      "cell_type": "code",
      "source": [
        "rf.fit(x_treino, y_treino)"
      ],
      "metadata": {
        "id": "1eSzsNEpKXV6"
      },
      "execution_count": null,
      "outputs": []
    },
    {
      "cell_type": "markdown",
      "source": [
        "#Decision tree\n"
      ],
      "metadata": {
        "id": "Mdf3xRhZspp2"
      }
    },
    {
      "cell_type": "code",
      "source": [
        "from sklearn.tree import DecisionTreeClassifier"
      ],
      "metadata": {
        "id": "i6F_ydumsO7k"
      },
      "execution_count": null,
      "outputs": []
    },
    {
      "cell_type": "code",
      "source": [
        "clf_dt = DecisionTreeClassifier()"
      ],
      "metadata": {
        "id": "XQtXdMr_s4qF"
      },
      "execution_count": null,
      "outputs": []
    },
    {
      "cell_type": "code",
      "source": [
        "clf_dt.fit(x_treino, y_treino)"
      ],
      "metadata": {
        "id": "VAz1yMNHtCDA"
      },
      "execution_count": null,
      "outputs": []
    },
    {
      "cell_type": "code",
      "source": [
        "y_pred = clf_dt.predict(x_teste)"
      ],
      "metadata": {
        "id": "bBREuhkyuM06"
      },
      "execution_count": null,
      "outputs": []
    },
    {
      "cell_type": "code",
      "source": [
        "from sklearn.metrics import accuracy_score\n",
        "\n",
        "accuracy_score(y_teste, y_pred)*100"
      ],
      "metadata": {
        "id": "a3xJQn_HwCG3"
      },
      "execution_count": null,
      "outputs": []
    },
    {
      "cell_type": "markdown",
      "source": [
        "#Random Forest"
      ],
      "metadata": {
        "id": "Vhi_Zmt9xQmh"
      }
    },
    {
      "cell_type": "code",
      "source": [
        "from sklearn.ensemble import RandomForestClassifier"
      ],
      "metadata": {
        "id": "JQfedDIzxVPI"
      },
      "execution_count": null,
      "outputs": []
    },
    {
      "cell_type": "code",
      "source": [
        "clf = RandomForestClassifier()"
      ],
      "metadata": {
        "id": "aOyCkp2ixlVk"
      },
      "execution_count": null,
      "outputs": []
    },
    {
      "cell_type": "code",
      "source": [
        "clf.fit(x_treino, y_treino)"
      ],
      "metadata": {
        "id": "nIats25KyHq5"
      },
      "execution_count": null,
      "outputs": []
    },
    {
      "cell_type": "code",
      "source": [
        "y_pred = clf.predict(x_teste)"
      ],
      "metadata": {
        "id": "Zc51LsKKyqZN"
      },
      "execution_count": null,
      "outputs": []
    },
    {
      "cell_type": "code",
      "source": [
        "accuracy_score(y_teste, y_pred)*100"
      ],
      "metadata": {
        "id": "j3dQHsSYy8uR"
      },
      "execution_count": null,
      "outputs": []
    },
    {
      "cell_type": "code",
      "source": [],
      "metadata": {
        "id": "kzp5X7Fny_dT"
      },
      "execution_count": null,
      "outputs": []
    },
    {
      "cell_type": "markdown",
      "source": [
        "#Gradiente Boosting"
      ],
      "metadata": {
        "id": "_ad53479-U9m"
      }
    },
    {
      "cell_type": "code",
      "source": [
        "from sklearn.ensemble import GradientBoostingClassifier"
      ],
      "metadata": {
        "id": "q00DKzMh-S_6"
      },
      "execution_count": null,
      "outputs": []
    },
    {
      "cell_type": "code",
      "source": [
        "clf = GradientBoostingClassifier(n_estimators=200, subsample=0.8)"
      ],
      "metadata": {
        "id": "J3sE-0FS-oZ3"
      },
      "execution_count": null,
      "outputs": []
    },
    {
      "cell_type": "code",
      "source": [
        "clf.fit(x_treino, y_treino)"
      ],
      "metadata": {
        "id": "djOPZNa0-3Px"
      },
      "execution_count": null,
      "outputs": []
    },
    {
      "cell_type": "code",
      "source": [
        "y_pred = clf.predict(x_teste)"
      ],
      "metadata": {
        "id": "JNWOqaH3_D69"
      },
      "execution_count": null,
      "outputs": []
    },
    {
      "cell_type": "code",
      "source": [
        "accuracy_score(y_teste, y_pred)*100"
      ],
      "metadata": {
        "id": "Y4kjfrK-_YrL"
      },
      "execution_count": null,
      "outputs": []
    },
    {
      "cell_type": "markdown",
      "source": [
        "#XgBoost"
      ],
      "metadata": {
        "id": "L4wkVTkMAhaV"
      }
    },
    {
      "cell_type": "code",
      "source": [
        "pip install xgboost"
      ],
      "metadata": {
        "id": "iaDagJvgAnTA"
      },
      "execution_count": null,
      "outputs": []
    },
    {
      "cell_type": "code",
      "source": [
        "from xgboost import XGBClassifier, train"
      ],
      "metadata": {
        "id": "ZAuKVrTmAyDC"
      },
      "execution_count": null,
      "outputs": []
    },
    {
      "cell_type": "code",
      "source": [
        "clf = XGBClassifier(n_estimators=300, min_child_weight=10)"
      ],
      "metadata": {
        "id": "JSeJ7gWCBJCr"
      },
      "execution_count": null,
      "outputs": []
    },
    {
      "cell_type": "code",
      "source": [
        "clf.fit(x_treino, y_treino)"
      ],
      "metadata": {
        "id": "E7ab8C_ZBUoe"
      },
      "execution_count": null,
      "outputs": []
    },
    {
      "cell_type": "code",
      "source": [
        "y_pred = clf.predict(x_teste)"
      ],
      "metadata": {
        "id": "gesRqkzwBg1l"
      },
      "execution_count": null,
      "outputs": []
    },
    {
      "cell_type": "code",
      "source": [
        "accuracy_score(y_teste, y_teste)"
      ],
      "metadata": {
        "id": "U6rhzEgvBqNz"
      },
      "execution_count": null,
      "outputs": []
    }
  ]
}